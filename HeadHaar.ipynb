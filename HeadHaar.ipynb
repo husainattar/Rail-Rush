{
  "nbformat": 4,
  "nbformat_minor": 0,
  "metadata": {
    "colab": {
      "name": "HeadHaar.ipynb",
      "provenance": [],
      "collapsed_sections": [],
      "authorship_tag": "ABX9TyPTP/JdmvgiXfEWe918g5aG",
      "include_colab_link": true
    },
    "kernelspec": {
      "name": "python3",
      "display_name": "Python 3"
    },
    "accelerator": "GPU"
  },
  "cells": [
    {
      "cell_type": "markdown",
      "metadata": {
        "id": "view-in-github",
        "colab_type": "text"
      },
      "source": [
        "<a href=\"https://colab.research.google.com/github/husainattar/Rail-Rush/blob/master/HeadHaar.ipynb\" target=\"_parent\"><img src=\"https://colab.research.google.com/assets/colab-badge.svg\" alt=\"Open In Colab\"/></a>"
      ]
    },
    {
      "cell_type": "code",
      "metadata": {
        "id": "nRTa0zPUQeWK",
        "colab_type": "code",
        "colab": {}
      },
      "source": [
        "from google.colab import drive\n",
        "drive.mount('/content/drive')"
      ],
      "execution_count": 0,
      "outputs": []
    },
    {
      "cell_type": "code",
      "metadata": {
        "id": "A9X8jugKQ7wW",
        "colab_type": "code",
        "colab": {}
      },
      "source": [
        "import cv2\n",
        "import numpy as np\n",
        "import matplotlib.pyplot as plt\n",
        "%matplotlib inline"
      ],
      "execution_count": 0,
      "outputs": []
    },
    {
      "cell_type": "code",
      "metadata": {
        "id": "fIKn-2LTRdkd",
        "colab_type": "code",
        "colab": {}
      },
      "source": [
        "def detect(img):\n",
        "\n",
        "  grayimg=img.copy()\n",
        "\n",
        "  head_cascade=cv2.CascadeClassifier('/content/drive/My Drive/Colab Notebooks/cascadeH5.xml')\n",
        "\n",
        "  grayimg=cv2.cvtColor(grayimg,cv2.COLOR_BGR2GRAY)\n",
        "\n",
        "  head_rects=head_cascade.detectMultiScale(grayimg,1.3,5)\n",
        "\n",
        "  for (x,y,w,h) in head_rects:\n",
        "    cv2.rectangle(img,(x,y),(x+w,y+h),(255,0,0),3)\n",
        "  \n",
        "  return img"
      ],
      "execution_count": 0,
      "outputs": []
    },
    {
      "cell_type": "code",
      "metadata": {
        "id": "xyKRllEtTc2H",
        "colab_type": "code",
        "colab": {}
      },
      "source": [
        "def getFrame(sec):\n",
        "\n",
        "    cap.set(cv2.CAP_PROP_POS_MSEC,sec*1000)\n",
        "    hasFrames,image = cap.read()\n",
        "\n",
        "    if hasFrames:\n",
        "\n",
        "     # img = cv2.rotate(image, cv2.ROTATE_90_CLOCKWISE)\n",
        "      image=detect(image)\n",
        "\n",
        "      cv2.imwrite('/content/drive/My Drive/Colab Notebooks/data3/dataV2/'+str(sec)+' sec.jpg', image)\n",
        "\n",
        "    return hasFrames\n",
        "\n",
        "# Playing video from file:\n",
        "cap = cv2.VideoCapture('/content/drive/My Drive/Colab Notebooks/train2.mp4')\n",
        "\n",
        "sec = 0\n",
        "frameRate = 1\n",
        "minval=1000000\n",
        "maxval=0\n",
        "#it will capture image in each 0.5 second\n",
        "success = getFrame(sec)\n",
        "while success:\n",
        "    sec = sec + frameRate\n",
        "    sec = round(sec, 2)\n",
        "    success = getFrame(sec)\n",
        "#print(\"min val:\",minval)\n",
        "#print(\"max val:\",maxval)\n",
        "cap.release()\n",
        "cv2.destroyAllWindows()"
      ],
      "execution_count": 0,
      "outputs": []
    }
  ]
}