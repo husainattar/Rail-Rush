{
  "nbformat": 4,
  "nbformat_minor": 0,
  "metadata": {
    "colab": {
      "name": "ExperimentHogCascade.ipynb",
      "provenance": [],
      "collapsed_sections": [],
      "authorship_tag": "ABX9TyMkap6618/0+LJb4EYIXWf0",
      "include_colab_link": true
    },
    "kernelspec": {
      "name": "python3",
      "display_name": "Python 3"
    },
    "accelerator": "GPU"
  },
  "cells": [
    {
      "cell_type": "markdown",
      "metadata": {
        "id": "view-in-github",
        "colab_type": "text"
      },
      "source": [
        "<a href=\"https://colab.research.google.com/github/husainattar/Rail-Rush/blob/master/ExperimentHogCascade.ipynb\" target=\"_parent\"><img src=\"https://colab.research.google.com/assets/colab-badge.svg\" alt=\"Open In Colab\"/></a>"
      ]
    },
    {
      "cell_type": "code",
      "metadata": {
        "id": "OKd1qKOywOxb",
        "colab_type": "code",
        "colab": {}
      },
      "source": [
        "from google.colab import drive\n",
        "drive.mount('/content/drive')"
      ],
      "execution_count": 0,
      "outputs": []
    },
    {
      "cell_type": "code",
      "metadata": {
        "id": "n6mvrNKNwvcU",
        "colab_type": "code",
        "colab": {}
      },
      "source": [
        "import cv2 \n",
        "import numpy as np\n",
        "from __future__ import print_function\n",
        "from imutils.object_detection import non_max_suppression\n",
        "from imutils import paths\n",
        "import argparse\n",
        "import imutils\n",
        "import matplotlib.pyplot as plt\n",
        "%matplotlib inline\n",
        "\n"
      ],
      "execution_count": 0,
      "outputs": []
    },
    {
      "cell_type": "code",
      "metadata": {
        "id": "OsD9IOmYEnPz",
        "colab_type": "code",
        "colab": {}
      },
      "source": [
        "from tensorflow.python.client import device_lib\n",
        "device_lib.list_local_devices()"
      ],
      "execution_count": 0,
      "outputs": []
    },
    {
      "cell_type": "code",
      "metadata": {
        "id": "zPoHB4T7QYCK",
        "colab_type": "code",
        "colab": {}
      },
      "source": [
        "hog = cv2.HOGDescriptor()\n",
        "hog.setSVMDetector(cv2.HOGDescriptor_getDefaultPeopleDetector())"
      ],
      "execution_count": 0,
      "outputs": []
    },
    {
      "cell_type": "code",
      "metadata": {
        "id": "jzECNAstQuFm",
        "colab_type": "code",
        "colab": {}
      },
      "source": [
        "def detect(image):\n",
        "  image = imutils.resize(image, width=min(400, image.shape[1]))\n",
        "  orig = image.copy()\n",
        " \t# detect people in the image\n",
        "  (rects, weights) = hog.detectMultiScale(image, winStride=(4, 4),padding=(8, 8), scale=1.05)\n",
        " \n",
        "\t# draw the original bounding boxes\n",
        "  for (x, y, w, h) in rects:\n",
        "    cv2.rectangle(orig, (x, y), (x + w, y + h), (0, 0, 255), 2)\n",
        "  \n",
        "\n",
        "\t# apply non-maxima suppression to the bounding boxes using a\n",
        "\t# fairly large overlap threshold to try to maintain overlapping\n",
        "\t# boxes that are still people\n",
        "  rects = np.array([[x, y, x + w, y + h] for (x, y, w, h) in rects])\n",
        "  pick = non_max_suppression(rects, probs=None, overlapThresh=0.65)\n",
        "\n",
        "  val=len(pick)\n",
        " \n",
        "\t# draw the final bounding boxes\n",
        "  for (xA, yA, xB, yB) in pick:\n",
        "    cv2.rectangle(image, (xA, yA), (xB, yB), (0, 255, 0), 2)\n",
        "  \n",
        "  return val"
      ],
      "execution_count": 0,
      "outputs": []
    },
    {
      "cell_type": "code",
      "metadata": {
        "id": "oX872hrswzHT",
        "colab_type": "code",
        "colab": {}
      },
      "source": [
        "#Frame creator function\n",
        "def getFrame(sec):\n",
        "    cap.set(cv2.CAP_PROP_POS_MSEC,sec*1000)\n",
        "    hasFrames,image = cap.read()\n",
        "    if hasFrames:\n",
        "      img = cv2.rotate(image, cv2.ROTATE_90_CLOCKWISE)\n",
        "      val=detect(img)\n",
        "\n",
        "      #To Access the global variable define global variable then assign value to it.\n",
        "\n",
        "      global minval\n",
        "      minval=min(val,minval)\n",
        "      global maxval\n",
        "      maxval=max(val,maxval)\n",
        "      \n",
        "      if sec==3:\n",
        "        #plt.imshow(image)\n",
        "        #cv2.imwrite('/content/drive/My Drive/Colab Notebooks/data/'+str(sec)+' sec.jpg', image)\n",
        "        #cv2.imwrite(str(sec))\n",
        "        print(val)    \n",
        "       # save frame as JPG file\n",
        "    return hasFrames\n",
        "\n",
        "# Playing video from file:\n",
        "cap = cv2.VideoCapture('/content/drive/My Drive/Colab Notebooks/train1.mp4')\n",
        "\n",
        "sec = 0\n",
        "frameRate = 1\n",
        "minval=1000000\n",
        "maxval=0\n",
        "#it will capture image in each 0.5 second\n",
        "success = getFrame(sec)\n",
        "while success:\n",
        "    sec = sec + frameRate\n",
        "    sec = round(sec, 2)\n",
        "    success = getFrame(sec)\n",
        "print(\"min val:\",minval)\n",
        "print(\"max val:\",maxval)\n",
        "cap.release()\n",
        "cv2.destroyAllWindows()"
      ],
      "execution_count": 0,
      "outputs": []
    }
  ]
}